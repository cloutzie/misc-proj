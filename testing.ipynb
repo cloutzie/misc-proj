{
  "metadata": {
    "kernelspec": {
      "name": "python",
      "display_name": "Python (Pyodide)",
      "language": "python"
    },
    "language_info": {
      "codemirror_mode": {
        "name": "python",
        "version": 3
      },
      "file_extension": ".py",
      "mimetype": "text/x-python",
      "name": "python",
      "nbconvert_exporter": "python",
      "pygments_lexer": "ipython3",
      "version": "3.8"
    }
  },
  "nbformat_minor": 4,
  "nbformat": 4,
  "cells": [
    {
      "cell_type": "code",
      "source": "import random\nfrom IPython.display import display, clear_output\nimport micropip\nawait micropip.install('ipywidgets')\nawait micropip.install('art')\nimport ipywidgets as widgets\nimport art\nimport time\n\nranks = {'2':2,'3':3,'4':4,'5':5,'6':6,'7':7,'8':8,'9':9,'10':10,'J':10,'Q':10,'K':10,'A':11}\nsuits = ('♠','♣','♥','♦')\n\nclass Card:\n    def __init__(self, rank, suit):\n        self.rank = rank\n        self.suit = suit\n        self.renderCard = widgets.Output(layout={'border': '2px solid black', 'height' : '58px', 'width' : '43px'})\n        with self.renderCard:\n            print(f\"{self.rank}\\n\\n  {self.suit}\")\n        \nclass Hand:\n    def __init__(self):\n        self.cards = []\n        self.value = ''\n        self.handRender = widgets.HBox([],layout={'height' : '70px'})\n    def getVal(self):\n        return sum([ranks[c.rank] for c in self.cards])\n    \nclass Deck:\n    def __init__(self):\n        self.cards = [Card(r, s) for r in ranks.keys() for s in suits]\n\n    def shuffle(self):\n        random.shuffle(self.cards)\n    \nclass Player:\n    def __init__(self):\n        self.hand = Hand()\n\nclass Dealer:\n    def __init__(self):\n        self.hand = Hand()\n        \nclass Blackjack:\n    def __init__(self):\n        self.deck = Deck()\n        self.player = Player()\n        self.dealer = Dealer()\n        self.btnvis = 'hidden'\n        \n        # Buttons\n        self.hitbutton = widgets.Button(description=\"Hit\", layout={'width' : '100px', 'height' : '30px', 'visibility' : 'hidden'})\n        self.hitbutton.on_click(self.hitbtn)\n        \n        self.standbutton = widgets.Button(description=\"Stand\", layout={'width' : '100px', 'height' : '30px', 'visibility' : 'hidden'})\n        self.standbutton.on_click(self.standbtn)\n\n        self.splitbutton = widgets.Button(description=\"Split\", layout={'width' : '100px', 'height' : '30px', 'visibility' : 'hidden'})\n        self.splitbutton.on_click(self.splitbtn)\n\n        self.ddbutton = widgets.Button(description=\"DD\", layout={'width' : '100px', 'height' : '30px', 'visibility' : 'hidden'})\n        self.ddbutton.on_click(self.ddbtn)\n        \n        # Display Game\n        print(art.text2art(\"Dealer\"))\n        display(self.dealer.hand.handRender)\n        \n        print(art.text2art(\"Player\"))\n        display(self.player.hand.handRender)\n        self.buttons = widgets.HBox((self.hitbutton, self.standbutton, self.splitbutton, self.ddbutton))\n        display(self.buttons)\n\n    def tglbtnvis(self):\n        if self.btnvis == 'visible':\n            self.btnvis = 'hidden'\n        elif self.btnvis == 'hidden':\n            self.btnvis = 'visible'\n        self.hitbutton.layout.visibility = self.btnvis\n        self.standbutton.layout.visibility = self.btnvis\n        self.splitbutton.layout.visibility = self.btnvis\n        self.ddbutton.layout.visibility = self.btnvis\n\n    def setcards(self):\n\n        self.deck.shuffle()\n        self.player.hand.cards.append(self.deck.cards.pop())\n        self.player.hand.handRender.children = [c.renderCard for c in self.player.hand.cards]\n        time.sleep(0.5)\n        self.dealer.hand.cards.append(self.deck.cards.pop())\n        self.dealer.hand.handRender.children = [c.renderCard for c in self.dealer.hand.cards]\n        time.sleep(0.5)\n        self.player.hand.cards.append(self.deck.cards.pop())\n        self.player.hand.handRender.children = [c.renderCard for c in self.player.hand.cards]\n        time.sleep(0.5)\n        self.dealer.hand.cards.append(self.deck.cards.pop())\n        self.dealer.hand.handRender.children = [c.renderCard for c in self.dealer.hand.cards]\n        time.sleep(0.5)\n        self.tglbtnvis()\n        \n    def hit(self, person):\n        person.hand.cards.append(self.deck.cards.pop())\n        person.hand.handRender.children = [c.renderCard for c in person.hand.cards]\n        self.checkscore(person)\n        \n        \n    def hitbtn(self, b):\n        self.checkscore(self.player)\n        \n\n    def standbtn(self, b):\n        self.endturn()\n        \n    def splitbtn(self, b):\n        pass\n\n    def ddbtn(self, b):\n        pass\n\n    def endturn(self):\n        self.tglbtnvis()\n        self.checkscore(self.dealer)\n\n    def checkscore(self, person):\n        if person == self.player:\n            score = self.player.hand.getVal()\n            if score < 21:\n                self.hit(self.player)\n            if score == 21:\n                person.hand.handRender.children = [c.renderCard for c in person.hand.cards]+[widgets.Label(value=\"  21!\")]\n                self.endturn()\n            if score > 21:\n                person.hand.handRender.children = [c.renderCard for c in person.hand.cards]+[widgets.Label(value=\"  Bust\")]\n                self.endturn()\n          \n        elif person == self.dealer:\n            score = self.dealer.hand.getVal()\n            if score < 17: \n                time.sleep(0.5)\n                self.hit(self.dealer)\n            if score == 21:\n                person.hand.handRender.children = [c.renderCard for c in person.hand.cards]+[widgets.Label(value=\"21.!\")]\n            \n    def play(self):\n        self.setcards()\n        \n\n        \n\n\n\nBlackjack().play()\n\n\n",
      "metadata": {
        "trusted": true,
        "tags": [],
        "editable": true,
        "slideshow": {
          "slide_type": ""
        }
      },
      "outputs": [
        {
          "name": "stdout",
          "text": " ____                _             \n|  _ \\   ___   __ _ | |  ___  _ __ \n| | | | / _ \\ / _` || | / _ \\| '__|\n| |_| ||  __/| (_| || ||  __/| |   \n|____/  \\___| \\__,_||_| \\___||_|   \n                                   \n\n",
          "output_type": "stream"
        },
        {
          "output_type": "display_data",
          "data": {
            "text/plain": "HBox(layout=Layout(height='70px'))",
            "application/vnd.jupyter.widget-view+json": {
              "version_major": 2,
              "version_minor": 0,
              "model_id": "888597228b494909a5c242d91bf0256e"
            }
          },
          "metadata": {}
        },
        {
          "name": "stdout",
          "text": " ____   _                           \n|  _ \\ | |  __ _  _   _   ___  _ __ \n| |_) || | / _` || | | | / _ \\| '__|\n|  __/ | || (_| || |_| ||  __/| |   \n|_|    |_| \\__,_| \\__, | \\___||_|   \n                  |___/             \n\n",
          "output_type": "stream"
        },
        {
          "output_type": "display_data",
          "data": {
            "text/plain": "HBox(layout=Layout(height='70px'))",
            "application/vnd.jupyter.widget-view+json": {
              "version_major": 2,
              "version_minor": 0,
              "model_id": "9d6c8768465b46f2a6d09b107c1e3a33"
            }
          },
          "metadata": {}
        },
        {
          "output_type": "display_data",
          "data": {
            "text/plain": "HBox(children=(Button(description='Hit', layout=Layout(height='30px', visibility='hidden', width='100px'), sty…",
            "application/vnd.jupyter.widget-view+json": {
              "version_major": 2,
              "version_minor": 0,
              "model_id": "be4d6958e66e42919ca64abc206e2858"
            }
          },
          "metadata": {}
        }
      ],
      "execution_count": 6
    },
    {
      "cell_type": "code",
      "source": "",
      "metadata": {
        "trusted": true
      },
      "outputs": [],
      "execution_count": null
    },
    {
      "cell_type": "code",
      "source": "",
      "metadata": {
        "trusted": true
      },
      "outputs": [],
      "execution_count": null
    }
  ]
}